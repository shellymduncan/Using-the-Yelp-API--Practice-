{
 "cells": [
  {
   "cell_type": "markdown",
   "id": "299078ee",
   "metadata": {},
   "source": [
    "# Shelly-Ann Duncan\n",
    "# 11/17/22\n",
    "# Using the Yelp API (Practice)"
   ]
  },
  {
   "cell_type": "markdown",
   "id": "7c89ebde",
   "metadata": {},
   "source": [
    "# Import necessary libraries"
   ]
  },
  {
   "cell_type": "code",
   "execution_count": 1,
   "id": "121355c0",
   "metadata": {},
   "outputs": [],
   "source": [
    "# imports\n",
    "import os, json, math, time\n",
    "import pandas as pd\n",
    "\n",
    "from yelpapi import YelpAPI\n",
    "from tqdm.notebook import tqdm_notebook"
   ]
  },
  {
   "cell_type": "markdown",
   "id": "cdf70f47",
   "metadata": {},
   "source": [
    "# Load credentials and create Yelp API Object"
   ]
  },
  {
   "cell_type": "code",
   "execution_count": 2,
   "id": "ff2b0f98",
   "metadata": {},
   "outputs": [
    {
     "data": {
      "text/plain": [
       "dict_keys(['Client-ID', 'API Key'])"
      ]
     },
     "execution_count": 2,
     "metadata": {},
     "output_type": "execute_result"
    }
   ],
   "source": [
    "# load API credentials\n",
    "with open('/Users/shell/.secret/yelp_api.json') as f:\n",
    "    login = json.load(f)\n",
    "login.keys()"
   ]
  },
  {
   "cell_type": "code",
   "execution_count": 3,
   "id": "1e4e2f03",
   "metadata": {},
   "outputs": [],
   "source": [
    "# instantiate Yelp API variable\n",
    "yelp = YelpAPI(login['API Key'], timeout_s = 5.0)"
   ]
  },
  {
   "cell_type": "markdown",
   "id": "75f3bf1a",
   "metadata": {},
   "source": [
    "# Define search terms and filepaths"
   ]
  },
  {
   "cell_type": "code",
   "execution_count": 4,
   "id": "1e3f3ea2",
   "metadata": {},
   "outputs": [],
   "source": [
    "# set API call paramertes and filename before the first call\n",
    "location = 'Brooklyn, NY 11236'\n",
    "term = 'hamburgers'"
   ]
  },
  {
   "cell_type": "code",
   "execution_count": 5,
   "id": "f9227f17",
   "metadata": {},
   "outputs": [],
   "source": [
    "# specify folder for saving data\n",
    "FOLDER = 'Data/'\n",
    "os.makedirs(FOLDER, exist_ok = True)"
   ]
  },
  {
   "cell_type": "code",
   "execution_count": 6,
   "id": "979b67a6",
   "metadata": {},
   "outputs": [
    {
     "data": {
      "text/plain": [
       "'Data/Brooklyn-hamburgers.json'"
      ]
     },
     "execution_count": 6,
     "metadata": {},
     "output_type": "execute_result"
    }
   ],
   "source": [
    "# specify JSON_FILE filename (can include a folder)\n",
    "JSON_FILE = FOLDER + f\"{location.split(',')[0]}-{term}.json\"\n",
    "JSON_FILE"
   ]
  },
  {
   "cell_type": "markdown",
   "id": "70875f63",
   "metadata": {},
   "source": [
    "# Check if Json file exists and create if not"
   ]
  },
  {
   "cell_type": "code",
   "execution_count": 7,
   "id": "ce4fbff4",
   "metadata": {},
   "outputs": [
    {
     "name": "stdout",
     "output_type": "stream",
     "text": [
      "(i) Data/Brooklyn-hamburgers.json already exists.\n"
     ]
    }
   ],
   "source": [
    "# check if the JSON_FILE exists\n",
    "file_exists = os.path.isfile(JSON_FILE)\n",
    "\n",
    "# if it doens't exist:\n",
    "if file_exists == False:\n",
    "    \n",
    "    # create any needed folders\n",
    "    # get the folder name only\n",
    "    folder = os.path.dirname(JSON_FILE)\n",
    "    \n",
    "    # if JSON_FILE included a folder:\n",
    "    if len(folder) > 0:\n",
    "        # create the folder\n",
    "        os.makedirs(folder, exist_ok = True)\n",
    "        \n",
    "        # inform user and save empty list\n",
    "        print(f\"(i) {JSON_FILE} not found. Saving empty list to file.\")\n",
    "        \n",
    "        # save the first page of results\n",
    "        with open(JSON_FILE, 'w') as f:\n",
    "            json.dump([], f)\n",
    "\n",
    "# if it exists, inform user\n",
    "else:\n",
    "    print(f\"(i) {JSON_FILE} already exists.\")    "
   ]
  },
  {
   "cell_type": "markdown",
   "id": "87c7d9ea",
   "metadata": {},
   "source": [
    "# Make the first API call to get the first page of data"
   ]
  },
  {
   "cell_type": "code",
   "execution_count": 21,
   "id": "0e9e5a9b",
   "metadata": {},
   "outputs": [
    {
     "data": {
      "text/plain": [
       "dict"
      ]
     },
     "execution_count": 21,
     "metadata": {},
     "output_type": "execute_result"
    }
   ],
   "source": [
    "# use the yelp_api variable's search_query method to perform our API call\n",
    "results = yelp.search_query(location = 'Brooklyn', term = 'hamburgers')\n",
    "type(results)"
   ]
  },
  {
   "cell_type": "code",
   "execution_count": 22,
   "id": "1903ff9b",
   "metadata": {},
   "outputs": [
    {
     "data": {
      "text/plain": [
       "dict_keys(['businesses', 'total', 'region'])"
      ]
     },
     "execution_count": 22,
     "metadata": {},
     "output_type": "execute_result"
    }
   ],
   "source": [
    "# get the keys\n",
    "results.keys()"
   ]
  },
  {
   "cell_type": "code",
   "execution_count": 23,
   "id": "ed43ef24",
   "metadata": {},
   "outputs": [
    {
     "data": {
      "text/plain": [
       "{'id': 'Jy6qxXks0w5Wmurzu7rmBQ',\n",
       " 'alias': '212-burgers-brooklyn-2',\n",
       " 'name': '212 Burgers',\n",
       " 'image_url': 'https://s3-media1.fl.yelpcdn.com/bphoto/wlBfz37uznsTRVOhvnHLlg/o.jpg',\n",
       " 'is_closed': False,\n",
       " 'url': 'https://www.yelp.com/biz/212-burgers-brooklyn-2?adjust_creative=azSZ1YV457_fpKmHVQM9Bg&utm_campaign=yelp_api_v3&utm_medium=api_v3_business_search&utm_source=azSZ1YV457_fpKmHVQM9Bg',\n",
       " 'review_count': 133,\n",
       " 'categories': [{'alias': 'burgers', 'title': 'Burgers'}],\n",
       " 'rating': 4.5,\n",
       " 'coordinates': {'latitude': 40.659118333958, 'longitude': -73.9816275578599},\n",
       " 'transactions': ['delivery', 'pickup'],\n",
       " 'price': '$$',\n",
       " 'location': {'address1': '252 Prospect Park W',\n",
       "  'address2': None,\n",
       "  'address3': None,\n",
       "  'city': 'Brooklyn',\n",
       "  'zip_code': '11215',\n",
       "  'country': 'US',\n",
       "  'state': 'NY',\n",
       "  'display_address': ['252 Prospect Park W', 'Brooklyn, NY 11215']},\n",
       " 'phone': '+18883472747',\n",
       " 'display_phone': '(888) 347-2747',\n",
       " 'distance': 3474.971406888533}"
      ]
     },
     "execution_count": 23,
     "metadata": {},
     "output_type": "execute_result"
    }
   ],
   "source": [
    "# get the results for the business\n",
    "results['businesses'][0]"
   ]
  },
  {
   "cell_type": "code",
   "execution_count": 24,
   "id": "36056535",
   "metadata": {},
   "outputs": [
    {
     "data": {
      "text/html": [
       "<div>\n",
       "<style scoped>\n",
       "    .dataframe tbody tr th:only-of-type {\n",
       "        vertical-align: middle;\n",
       "    }\n",
       "\n",
       "    .dataframe tbody tr th {\n",
       "        vertical-align: top;\n",
       "    }\n",
       "\n",
       "    .dataframe thead th {\n",
       "        text-align: right;\n",
       "    }\n",
       "</style>\n",
       "<table border=\"1\" class=\"dataframe\">\n",
       "  <thead>\n",
       "    <tr style=\"text-align: right;\">\n",
       "      <th></th>\n",
       "      <th>id</th>\n",
       "      <th>alias</th>\n",
       "      <th>name</th>\n",
       "      <th>image_url</th>\n",
       "      <th>is_closed</th>\n",
       "      <th>url</th>\n",
       "      <th>review_count</th>\n",
       "      <th>categories</th>\n",
       "      <th>rating</th>\n",
       "      <th>coordinates</th>\n",
       "      <th>transactions</th>\n",
       "      <th>price</th>\n",
       "      <th>location</th>\n",
       "      <th>phone</th>\n",
       "      <th>display_phone</th>\n",
       "      <th>distance</th>\n",
       "    </tr>\n",
       "  </thead>\n",
       "  <tbody>\n",
       "    <tr>\n",
       "      <th>0</th>\n",
       "      <td>Jy6qxXks0w5Wmurzu7rmBQ</td>\n",
       "      <td>212-burgers-brooklyn-2</td>\n",
       "      <td>212 Burgers</td>\n",
       "      <td>https://s3-media1.fl.yelpcdn.com/bphoto/wlBfz3...</td>\n",
       "      <td>False</td>\n",
       "      <td>https://www.yelp.com/biz/212-burgers-brooklyn-...</td>\n",
       "      <td>133</td>\n",
       "      <td>[{'alias': 'burgers', 'title': 'Burgers'}]</td>\n",
       "      <td>4.5</td>\n",
       "      <td>{'latitude': 40.659118333958, 'longitude': -73...</td>\n",
       "      <td>[delivery, pickup]</td>\n",
       "      <td>$$</td>\n",
       "      <td>{'address1': '252 Prospect Park W', 'address2'...</td>\n",
       "      <td>+18883472747</td>\n",
       "      <td>(888) 347-2747</td>\n",
       "      <td>3474.971407</td>\n",
       "    </tr>\n",
       "    <tr>\n",
       "      <th>1</th>\n",
       "      <td>bY0lygMoQaDoaCANGGeg_A</td>\n",
       "      <td>98-k-hamburger-brooklyn</td>\n",
       "      <td>98 K Hamburger</td>\n",
       "      <td>https://s3-media3.fl.yelpcdn.com/bphoto/cgGaPg...</td>\n",
       "      <td>False</td>\n",
       "      <td>https://www.yelp.com/biz/98-k-hamburger-brookl...</td>\n",
       "      <td>14</td>\n",
       "      <td>[{'alias': 'hotdogs', 'title': 'Fast Food'}, {...</td>\n",
       "      <td>3.0</td>\n",
       "      <td>{'latitude': 40.60394019123772, 'longitude': -...</td>\n",
       "      <td>[delivery, pickup]</td>\n",
       "      <td>NaN</td>\n",
       "      <td>{'address1': '12 Bay 25th St', 'address2': '',...</td>\n",
       "      <td></td>\n",
       "      <td></td>\n",
       "      <td>6400.743980</td>\n",
       "    </tr>\n",
       "  </tbody>\n",
       "</table>\n",
       "</div>"
      ],
      "text/plain": [
       "                       id                    alias            name  \\\n",
       "0  Jy6qxXks0w5Wmurzu7rmBQ   212-burgers-brooklyn-2     212 Burgers   \n",
       "1  bY0lygMoQaDoaCANGGeg_A  98-k-hamburger-brooklyn  98 K Hamburger   \n",
       "\n",
       "                                           image_url  is_closed  \\\n",
       "0  https://s3-media1.fl.yelpcdn.com/bphoto/wlBfz3...      False   \n",
       "1  https://s3-media3.fl.yelpcdn.com/bphoto/cgGaPg...      False   \n",
       "\n",
       "                                                 url  review_count  \\\n",
       "0  https://www.yelp.com/biz/212-burgers-brooklyn-...           133   \n",
       "1  https://www.yelp.com/biz/98-k-hamburger-brookl...            14   \n",
       "\n",
       "                                          categories  rating  \\\n",
       "0         [{'alias': 'burgers', 'title': 'Burgers'}]     4.5   \n",
       "1  [{'alias': 'hotdogs', 'title': 'Fast Food'}, {...     3.0   \n",
       "\n",
       "                                         coordinates        transactions  \\\n",
       "0  {'latitude': 40.659118333958, 'longitude': -73...  [delivery, pickup]   \n",
       "1  {'latitude': 40.60394019123772, 'longitude': -...  [delivery, pickup]   \n",
       "\n",
       "  price                                           location         phone  \\\n",
       "0    $$  {'address1': '252 Prospect Park W', 'address2'...  +18883472747   \n",
       "1   NaN  {'address1': '12 Bay 25th St', 'address2': '',...                 \n",
       "\n",
       "    display_phone     distance  \n",
       "0  (888) 347-2747  3474.971407  \n",
       "1                  6400.743980  "
      ]
     },
     "execution_count": 24,
     "metadata": {},
     "output_type": "execute_result"
    }
   ],
   "source": [
    "# get the DataFrame\n",
    "hamburgers0 = pd.DataFrame(results['businesses'])\n",
    "hamburgers0.head(2)"
   ]
  },
  {
   "cell_type": "code",
   "execution_count": 25,
   "id": "b250d730",
   "metadata": {},
   "outputs": [
    {
     "data": {
      "text/plain": [
       "6800"
      ]
     },
     "execution_count": 25,
     "metadata": {},
     "output_type": "execute_result"
    }
   ],
   "source": [
    "# how many results total?\n",
    "results['total']"
   ]
  },
  {
   "cell_type": "code",
   "execution_count": 26,
   "id": "1ec508d5",
   "metadata": {},
   "outputs": [
    {
     "data": {
      "text/plain": [
       "20"
      ]
     },
     "execution_count": 26,
     "metadata": {},
     "output_type": "execute_result"
    }
   ],
   "source": [
    "# how many businesses in our results\n",
    "results_per_page = len(results['businesses'])\n",
    "results_per_page"
   ]
  },
  {
   "cell_type": "code",
   "execution_count": 27,
   "id": "f0121b85",
   "metadata": {},
   "outputs": [
    {
     "data": {
      "text/plain": [
       "340"
      ]
     },
     "execution_count": 27,
     "metadata": {},
     "output_type": "execute_result"
    }
   ],
   "source": [
    "# use the math.cell to round up for the total number of pages of results\n",
    "n_pages = math.ceil((results['total']) / results_per_page)\n",
    "n_pages"
   ]
  },
  {
   "cell_type": "code",
   "execution_count": 28,
   "id": "678f3e40",
   "metadata": {},
   "outputs": [
    {
     "data": {
      "application/vnd.jupyter.widget-view+json": {
       "model_id": "1769dfecade44ee28d43febb8158da18",
       "version_major": 2,
       "version_minor": 0
      },
      "text/plain": [
       "  0%|          | 0/340 [00:00<?, ?it/s]"
      ]
     },
     "metadata": {},
     "output_type": "display_data"
    }
   ],
   "source": [
    "for i in tqdm_notebook( range(1, n_pages + 1)):\n",
    "   # the block of code we want to TRY to run\n",
    "    try:\n",
    "        \n",
    "        # time.sleep(.2)\n",
    "        \n",
    "        # Read in results in progress file and check the length\n",
    "        with open(JSON_FILE, 'r') as f:\n",
    "            previous_results = json.load(f)\n",
    "            \n",
    "        # save number of results for to use as offset\n",
    "        n_results = len(previous_results)\n",
    "        \n",
    "        \n",
    "        # use n_results as the OFFSET \n",
    "        results = yelp.search_query(location = location,\n",
    "                                        term = term, \n",
    "                                        offset = n_results + 1)\n",
    "\n",
    "        # append new results and save to file\n",
    "        previous_results.extend(['businesses'])\n",
    "\n",
    "        with open(JSON_FILE,'w') as f:\n",
    "            json.dump(previous_results,f)\n",
    "            \n",
    "    # what to do if we get an error/exception.\n",
    "    except Exception as e: # saving the error message so we can print it.\n",
    "        print('[!] ERROR: ',e)"
   ]
  },
  {
   "cell_type": "code",
   "execution_count": 30,
   "id": "90eb380a",
   "metadata": {},
   "outputs": [],
   "source": [
    "# add the offset to the original api call\n",
    "hamburgers_20 = yelp.search_query(location = 'Brooklyn',\n",
    "                                  term = 'hamburgers',\n",
    "                                  offset = 20)"
   ]
  },
  {
   "cell_type": "code",
   "execution_count": 36,
   "id": "3135d0e8",
   "metadata": {},
   "outputs": [
    {
     "data": {
      "text/html": [
       "<div>\n",
       "<style scoped>\n",
       "    .dataframe tbody tr th:only-of-type {\n",
       "        vertical-align: middle;\n",
       "    }\n",
       "\n",
       "    .dataframe tbody tr th {\n",
       "        vertical-align: top;\n",
       "    }\n",
       "\n",
       "    .dataframe thead th {\n",
       "        text-align: right;\n",
       "    }\n",
       "</style>\n",
       "<table border=\"1\" class=\"dataframe\">\n",
       "  <thead>\n",
       "    <tr style=\"text-align: right;\">\n",
       "      <th></th>\n",
       "    </tr>\n",
       "  </thead>\n",
       "  <tbody>\n",
       "  </tbody>\n",
       "</table>\n",
       "</div>"
      ],
      "text/plain": [
       "Empty DataFrame\n",
       "Columns: []\n",
       "Index: []"
      ]
     },
     "execution_count": 36,
     "metadata": {},
     "output_type": "execute_result"
    }
   ],
   "source": [
    "# check the results\n",
    "hamburgers_20 = pd.DataFrame(results['businesses'])\n",
    "hamburgers_20.head(2)"
   ]
  },
  {
   "cell_type": "code",
   "execution_count": 34,
   "id": "59731dc1",
   "metadata": {},
   "outputs": [
    {
     "data": {
      "text/html": [
       "<div>\n",
       "<style scoped>\n",
       "    .dataframe tbody tr th:only-of-type {\n",
       "        vertical-align: middle;\n",
       "    }\n",
       "\n",
       "    .dataframe tbody tr th {\n",
       "        vertical-align: top;\n",
       "    }\n",
       "\n",
       "    .dataframe thead th {\n",
       "        text-align: right;\n",
       "    }\n",
       "</style>\n",
       "<table border=\"1\" class=\"dataframe\">\n",
       "  <thead>\n",
       "    <tr style=\"text-align: right;\">\n",
       "      <th></th>\n",
       "      <th>id</th>\n",
       "      <th>alias</th>\n",
       "      <th>name</th>\n",
       "      <th>image_url</th>\n",
       "      <th>is_closed</th>\n",
       "      <th>url</th>\n",
       "      <th>review_count</th>\n",
       "      <th>categories</th>\n",
       "      <th>rating</th>\n",
       "      <th>coordinates</th>\n",
       "      <th>transactions</th>\n",
       "      <th>price</th>\n",
       "      <th>location</th>\n",
       "      <th>phone</th>\n",
       "      <th>display_phone</th>\n",
       "      <th>distance</th>\n",
       "    </tr>\n",
       "  </thead>\n",
       "  <tbody>\n",
       "    <tr>\n",
       "      <th>0</th>\n",
       "      <td>Jy6qxXks0w5Wmurzu7rmBQ</td>\n",
       "      <td>212-burgers-brooklyn-2</td>\n",
       "      <td>212 Burgers</td>\n",
       "      <td>https://s3-media1.fl.yelpcdn.com/bphoto/wlBfz3...</td>\n",
       "      <td>False</td>\n",
       "      <td>https://www.yelp.com/biz/212-burgers-brooklyn-...</td>\n",
       "      <td>133</td>\n",
       "      <td>[{'alias': 'burgers', 'title': 'Burgers'}]</td>\n",
       "      <td>4.5</td>\n",
       "      <td>{'latitude': 40.659118333958, 'longitude': -73...</td>\n",
       "      <td>[delivery, pickup]</td>\n",
       "      <td>$$</td>\n",
       "      <td>{'address1': '252 Prospect Park W', 'address2'...</td>\n",
       "      <td>+18883472747</td>\n",
       "      <td>(888) 347-2747</td>\n",
       "      <td>3474.971407</td>\n",
       "    </tr>\n",
       "    <tr>\n",
       "      <th>1</th>\n",
       "      <td>bY0lygMoQaDoaCANGGeg_A</td>\n",
       "      <td>98-k-hamburger-brooklyn</td>\n",
       "      <td>98 K Hamburger</td>\n",
       "      <td>https://s3-media3.fl.yelpcdn.com/bphoto/cgGaPg...</td>\n",
       "      <td>False</td>\n",
       "      <td>https://www.yelp.com/biz/98-k-hamburger-brookl...</td>\n",
       "      <td>14</td>\n",
       "      <td>[{'alias': 'hotdogs', 'title': 'Fast Food'}, {...</td>\n",
       "      <td>3.0</td>\n",
       "      <td>{'latitude': 40.60394019123772, 'longitude': -...</td>\n",
       "      <td>[delivery, pickup]</td>\n",
       "      <td>NaN</td>\n",
       "      <td>{'address1': '12 Bay 25th St', 'address2': '',...</td>\n",
       "      <td></td>\n",
       "      <td></td>\n",
       "      <td>6400.743980</td>\n",
       "    </tr>\n",
       "    <tr>\n",
       "      <th>2</th>\n",
       "      <td>HIGneWKny_s38Y6jRoTDrQ</td>\n",
       "      <td>moon-and-flower-house-brooklyn</td>\n",
       "      <td>Moon &amp; Flower House</td>\n",
       "      <td>https://s3-media2.fl.yelpcdn.com/bphoto/SZWbYT...</td>\n",
       "      <td>False</td>\n",
       "      <td>https://www.yelp.com/biz/moon-and-flower-house...</td>\n",
       "      <td>75</td>\n",
       "      <td>[{'alias': 'desserts', 'title': 'Desserts'}, {...</td>\n",
       "      <td>2.5</td>\n",
       "      <td>{'latitude': 40.637238, 'longitude': -74.011715}</td>\n",
       "      <td>[delivery, pickup]</td>\n",
       "      <td>$$</td>\n",
       "      <td>{'address1': '5912 7th Ave', 'address2': '', '...</td>\n",
       "      <td>+17187650020</td>\n",
       "      <td>(718) 765-0020</td>\n",
       "      <td>5707.596918</td>\n",
       "    </tr>\n",
       "  </tbody>\n",
       "</table>\n",
       "</div>"
      ],
      "text/plain": [
       "                       id                           alias  \\\n",
       "0  Jy6qxXks0w5Wmurzu7rmBQ          212-burgers-brooklyn-2   \n",
       "1  bY0lygMoQaDoaCANGGeg_A         98-k-hamburger-brooklyn   \n",
       "2  HIGneWKny_s38Y6jRoTDrQ  moon-and-flower-house-brooklyn   \n",
       "\n",
       "                  name                                          image_url  \\\n",
       "0          212 Burgers  https://s3-media1.fl.yelpcdn.com/bphoto/wlBfz3...   \n",
       "1       98 K Hamburger  https://s3-media3.fl.yelpcdn.com/bphoto/cgGaPg...   \n",
       "2  Moon & Flower House  https://s3-media2.fl.yelpcdn.com/bphoto/SZWbYT...   \n",
       "\n",
       "   is_closed                                                url  review_count  \\\n",
       "0      False  https://www.yelp.com/biz/212-burgers-brooklyn-...           133   \n",
       "1      False  https://www.yelp.com/biz/98-k-hamburger-brookl...            14   \n",
       "2      False  https://www.yelp.com/biz/moon-and-flower-house...            75   \n",
       "\n",
       "                                          categories  rating  \\\n",
       "0         [{'alias': 'burgers', 'title': 'Burgers'}]     4.5   \n",
       "1  [{'alias': 'hotdogs', 'title': 'Fast Food'}, {...     3.0   \n",
       "2  [{'alias': 'desserts', 'title': 'Desserts'}, {...     2.5   \n",
       "\n",
       "                                         coordinates        transactions  \\\n",
       "0  {'latitude': 40.659118333958, 'longitude': -73...  [delivery, pickup]   \n",
       "1  {'latitude': 40.60394019123772, 'longitude': -...  [delivery, pickup]   \n",
       "2   {'latitude': 40.637238, 'longitude': -74.011715}  [delivery, pickup]   \n",
       "\n",
       "  price                                           location         phone  \\\n",
       "0    $$  {'address1': '252 Prospect Park W', 'address2'...  +18883472747   \n",
       "1   NaN  {'address1': '12 Bay 25th St', 'address2': '',...                 \n",
       "2    $$  {'address1': '5912 7th Ave', 'address2': '', '...  +17187650020   \n",
       "\n",
       "    display_phone     distance  \n",
       "0  (888) 347-2747  3474.971407  \n",
       "1                  6400.743980  \n",
       "2  (718) 765-0020  5707.596918  "
      ]
     },
     "metadata": {},
     "output_type": "display_data"
    },
    {
     "data": {
      "text/html": [
       "<div>\n",
       "<style scoped>\n",
       "    .dataframe tbody tr th:only-of-type {\n",
       "        vertical-align: middle;\n",
       "    }\n",
       "\n",
       "    .dataframe tbody tr th {\n",
       "        vertical-align: top;\n",
       "    }\n",
       "\n",
       "    .dataframe thead th {\n",
       "        text-align: right;\n",
       "    }\n",
       "</style>\n",
       "<table border=\"1\" class=\"dataframe\">\n",
       "  <thead>\n",
       "    <tr style=\"text-align: right;\">\n",
       "      <th></th>\n",
       "      <th>id</th>\n",
       "      <th>alias</th>\n",
       "      <th>name</th>\n",
       "      <th>image_url</th>\n",
       "      <th>is_closed</th>\n",
       "      <th>url</th>\n",
       "      <th>review_count</th>\n",
       "      <th>categories</th>\n",
       "      <th>rating</th>\n",
       "      <th>coordinates</th>\n",
       "      <th>transactions</th>\n",
       "      <th>price</th>\n",
       "      <th>location</th>\n",
       "      <th>phone</th>\n",
       "      <th>display_phone</th>\n",
       "      <th>distance</th>\n",
       "    </tr>\n",
       "  </thead>\n",
       "  <tbody>\n",
       "    <tr>\n",
       "      <th>17</th>\n",
       "      <td>Y1sLUSnksXqjNgA3Mcx-yQ</td>\n",
       "      <td>dumont-burger-brooklyn</td>\n",
       "      <td>DuMont Burger</td>\n",
       "      <td>https://s3-media2.fl.yelpcdn.com/bphoto/onoAiA...</td>\n",
       "      <td>False</td>\n",
       "      <td>https://www.yelp.com/biz/dumont-burger-brookly...</td>\n",
       "      <td>771</td>\n",
       "      <td>[{'alias': 'burgers', 'title': 'Burgers'}, {'a...</td>\n",
       "      <td>3.5</td>\n",
       "      <td>{'latitude': 40.71366, 'longitude': -73.96198}</td>\n",
       "      <td>[delivery, pickup]</td>\n",
       "      <td>$$</td>\n",
       "      <td>{'address1': '314 Bedford Ave', 'address2': ''...</td>\n",
       "      <td>+17183846127</td>\n",
       "      <td>(718) 384-6127</td>\n",
       "      <td>7770.516609</td>\n",
       "    </tr>\n",
       "    <tr>\n",
       "      <th>18</th>\n",
       "      <td>Hc4_XRzCZ7kh-RpkB6c_qw</td>\n",
       "      <td>mr-chips-brooklyn</td>\n",
       "      <td>Mr Chips</td>\n",
       "      <td>https://s3-media1.fl.yelpcdn.com/bphoto/PrD3eI...</td>\n",
       "      <td>False</td>\n",
       "      <td>https://www.yelp.com/biz/mr-chips-brooklyn?adj...</td>\n",
       "      <td>10</td>\n",
       "      <td>[{'alias': 'diners', 'title': 'Diners'}, {'ali...</td>\n",
       "      <td>4.5</td>\n",
       "      <td>{'latitude': 40.63131688234249, 'longitude': -...</td>\n",
       "      <td>[delivery, pickup]</td>\n",
       "      <td>NaN</td>\n",
       "      <td>{'address1': '7506 3rd Ave', 'address2': '', '...</td>\n",
       "      <td>+13479097054</td>\n",
       "      <td>(347) 909-7054</td>\n",
       "      <td>7192.381589</td>\n",
       "    </tr>\n",
       "    <tr>\n",
       "      <th>19</th>\n",
       "      <td>PY-v9ObQWyS1Oiz89IUfEw</td>\n",
       "      <td>skinflints-brooklyn</td>\n",
       "      <td>Skinflints</td>\n",
       "      <td>https://s3-media4.fl.yelpcdn.com/bphoto/AbbbEU...</td>\n",
       "      <td>False</td>\n",
       "      <td>https://www.yelp.com/biz/skinflints-brooklyn?a...</td>\n",
       "      <td>378</td>\n",
       "      <td>[{'alias': 'burgers', 'title': 'Burgers'}, {'a...</td>\n",
       "      <td>4.0</td>\n",
       "      <td>{'latitude': 40.626544, 'longitude': -74.024139}</td>\n",
       "      <td>[delivery, pickup]</td>\n",
       "      <td>$$</td>\n",
       "      <td>{'address1': '7902 5th Ave', 'address2': '', '...</td>\n",
       "      <td>+17187451116</td>\n",
       "      <td>(718) 745-1116</td>\n",
       "      <td>6996.399368</td>\n",
       "    </tr>\n",
       "  </tbody>\n",
       "</table>\n",
       "</div>"
      ],
      "text/plain": [
       "                        id                   alias           name  \\\n",
       "17  Y1sLUSnksXqjNgA3Mcx-yQ  dumont-burger-brooklyn  DuMont Burger   \n",
       "18  Hc4_XRzCZ7kh-RpkB6c_qw       mr-chips-brooklyn       Mr Chips   \n",
       "19  PY-v9ObQWyS1Oiz89IUfEw     skinflints-brooklyn     Skinflints   \n",
       "\n",
       "                                            image_url  is_closed  \\\n",
       "17  https://s3-media2.fl.yelpcdn.com/bphoto/onoAiA...      False   \n",
       "18  https://s3-media1.fl.yelpcdn.com/bphoto/PrD3eI...      False   \n",
       "19  https://s3-media4.fl.yelpcdn.com/bphoto/AbbbEU...      False   \n",
       "\n",
       "                                                  url  review_count  \\\n",
       "17  https://www.yelp.com/biz/dumont-burger-brookly...           771   \n",
       "18  https://www.yelp.com/biz/mr-chips-brooklyn?adj...            10   \n",
       "19  https://www.yelp.com/biz/skinflints-brooklyn?a...           378   \n",
       "\n",
       "                                           categories  rating  \\\n",
       "17  [{'alias': 'burgers', 'title': 'Burgers'}, {'a...     3.5   \n",
       "18  [{'alias': 'diners', 'title': 'Diners'}, {'ali...     4.5   \n",
       "19  [{'alias': 'burgers', 'title': 'Burgers'}, {'a...     4.0   \n",
       "\n",
       "                                          coordinates        transactions  \\\n",
       "17     {'latitude': 40.71366, 'longitude': -73.96198}  [delivery, pickup]   \n",
       "18  {'latitude': 40.63131688234249, 'longitude': -...  [delivery, pickup]   \n",
       "19   {'latitude': 40.626544, 'longitude': -74.024139}  [delivery, pickup]   \n",
       "\n",
       "   price                                           location         phone  \\\n",
       "17    $$  {'address1': '314 Bedford Ave', 'address2': ''...  +17183846127   \n",
       "18   NaN  {'address1': '7506 3rd Ave', 'address2': '', '...  +13479097054   \n",
       "19    $$  {'address1': '7902 5th Ave', 'address2': '', '...  +17187451116   \n",
       "\n",
       "     display_phone     distance  \n",
       "17  (718) 384-6127  7770.516609  \n",
       "18  (347) 909-7054  7192.381589  \n",
       "19  (718) 745-1116  6996.399368  "
      ]
     },
     "metadata": {},
     "output_type": "display_data"
    }
   ],
   "source": [
    "# contatenate all pages\n",
    "pages = pd.concat([hamburgers0, hamburgers_20],\n",
    "                      ignore_index=True)\n",
    "display(pages.head(3), pages.tail(3))"
   ]
  },
  {
   "cell_type": "code",
   "execution_count": 37,
   "id": "ec12493f",
   "metadata": {},
   "outputs": [
    {
     "data": {
      "text/plain": [
       "'[{\"id\":\"Jy6qxXks0w5Wmurzu7rmBQ\",\"alias\":\"212-burgers-brooklyn-2\",\"name\":\"212 Burgers\",\"image_url\":\"https:\\\\/\\\\/s3-media1.fl.yelpcdn.com\\\\/bphoto\\\\/wlBfz37uznsTRVOhvnHLlg\\\\/o.jpg\",\"is_closed\":false,\"url\":\"https:\\\\/\\\\/www.yelp.com\\\\/biz\\\\/212-burgers-brooklyn-2?adjust_creative=azSZ1YV457_fpKmHVQM9Bg&utm_campaign=yelp_api_v3&utm_medium=api_v3_business_search&utm_source=azSZ1YV457_fpKmHVQM9Bg\",\"review_count\":133,\"categories\":[{\"alias\":\"burgers\",\"title\":\"Burgers\"}],\"rating\":4.5,\"coordinates\":{\"latitude\":40.659118334,\"longitude\":-73.9816275579},\"transactions\":[\"delivery\",\"pickup\"],\"price\":\"$$\",\"location\":{\"address1\":\"252 Prospect Park W\",\"address2\":null,\"address3\":null,\"city\":\"Brooklyn\",\"zip_code\":\"11215\",\"country\":\"US\",\"state\":\"NY\",\"display_address\":[\"252 Prospect Park W\",\"Brooklyn, NY 11215\"]},\"phone\":\"+18883472747\",\"display_phone\":\"(888) 347-2747\",\"distance\":3474.9714068885},{\"id\":\"bY0lygMoQaDoaCANGGeg_A\",\"alias\":\"98-k-hamburger-brooklyn\",\"name\":\"98 K Hamburger\",\"image_url\":\"https:\\\\/\\\\/s3-media3.fl.yelpcdn.com\\\\/bphoto\\\\/cgGaPgQskzp5P7NmRxiRfg\\\\/o.jpg\",\"is_closed\":false,\"url\":\"https:\\\\/\\\\/www.yelp.com\\\\/biz\\\\/98-k-hamburger-brooklyn?adjust_creative=azSZ1YV457_fpKmHVQM9Bg&utm_campaign=yelp_api_v3&utm_medium=api_v3_business_search&utm_source=azSZ1YV457_fpKmHVQM9Bg\",\"review_count\":14,\"categories\":[{\"alias\":\"hotdogs\",\"title\":\"Fast Food\"},{\"alias\":\"burgers\",\"title\":\"Burgers\"}],\"rating\":3.0,\"coordinates\":{\"latitude\":40.6039401912,\"longitude\":-73.9979601279},\"transactions\":[\"delivery\",\"pickup\"],\"price\":null,\"location\":{\"address1\":\"12 Bay 25th St\",\"address2\":\"\",\"address3\":null,\"city\":\"Brooklyn\",\"zip_code\":\"11214\",\"country\":\"US\",\"state\":\"NY\",\"display_address\":[\"12 Bay 25th St\",\"Brooklyn, NY 11214\"]},\"phone\":\"\",\"display_phone\":\"\",\"distance\":6400.743979813},{\"id\":\"HIGneWKny_s38Y6jRoTDrQ\",\"alias\":\"moon-and-flower-house-brooklyn\",\"name\":\"Moon & Flower House\",\"image_url\":\"https:\\\\/\\\\/s3-media2.fl.yelpcdn.com\\\\/bphoto\\\\/SZWbYTOrovGCjHdr-pT6iw\\\\/o.jpg\",\"is_closed\":false,\"url\":\"https:\\\\/\\\\/www.yelp.com\\\\/biz\\\\/moon-and-flower-house-brooklyn?adjust_creative=azSZ1YV457_fpKmHVQM9Bg&utm_campaign=yelp_api_v3&utm_medium=api_v3_business_search&utm_source=azSZ1YV457_fpKmHVQM9Bg\",\"review_count\":75,\"categories\":[{\"alias\":\"desserts\",\"title\":\"Desserts\"},{\"alias\":\"burgers\",\"title\":\"Burgers\"},{\"alias\":\"chicken_wings\",\"title\":\"Chicken Wings\"}],\"rating\":2.5,\"coordinates\":{\"latitude\":40.637238,\"longitude\":-74.011715},\"transactions\":[\"delivery\",\"pickup\"],\"price\":\"$$\",\"location\":{\"address1\":\"5912 7th Ave\",\"address2\":\"\",\"address3\":\"\",\"city\":\"Brooklyn\",\"zip_code\":\"11220\",\"country\":\"US\",\"state\":\"NY\",\"display_address\":[\"5912 7th Ave\",\"Brooklyn, NY 11220\"]},\"phone\":\"+17187650020\",\"display_phone\":\"(718) 765-0020\",\"distance\":5707.5969184838},{\"id\":\"-0bdnX762vdTb9lI00etvA\",\"alias\":\"brooklyn-burgers-and-beer-brooklyn\",\"name\":\"Brooklyn Burgers & Beer\",\"image_url\":\"https:\\\\/\\\\/s3-media2.fl.yelpcdn.com\\\\/bphoto\\\\/eNdj6Ajdgxd1iA6MJOZhWg\\\\/o.jpg\",\"is_closed\":false,\"url\":\"https:\\\\/\\\\/www.yelp.com\\\\/biz\\\\/brooklyn-burgers-and-beer-brooklyn?adjust_creative=azSZ1YV457_fpKmHVQM9Bg&utm_campaign=yelp_api_v3&utm_medium=api_v3_business_search&utm_source=azSZ1YV457_fpKmHVQM9Bg\",\"review_count\":423,\"categories\":[{\"alias\":\"burgers\",\"title\":\"Burgers\"},{\"alias\":\"beerbar\",\"title\":\"Beer Bar\"},{\"alias\":\"cocktailbars\",\"title\":\"Cocktail Bars\"}],\"rating\":4.0,\"coordinates\":{\"latitude\":40.6743507,\"longitude\":-73.9815826},\"transactions\":[\"delivery\",\"pickup\"],\"price\":\"$$\",\"location\":{\"address1\":\"259 5th Ave\",\"address2\":null,\"address3\":\"\",\"city\":\"Brooklyn\",\"zip_code\":\"11215\",\"country\":\"US\",\"state\":\"NY\",\"display_address\":[\"259 5th Ave\",\"Brooklyn, NY 11215\"]},\"phone\":\"+17187881458\",\"display_phone\":\"(718) 788-1458\",\"distance\":4506.9053273088},{\"id\":\"QXnRMU3-3EhIlyl4ZgPdYg\",\"alias\":\"miss-dong-burger-brooklyn-2\",\"name\":\"Miss Dong Burger\",\"image_url\":\"https:\\\\/\\\\/s3-media4.fl.yelpcdn.com\\\\/bphoto\\\\/xoIFrX0fY8MfDKyojfljlg\\\\/o.jpg\",\"is_closed\":false,\"url\":\"https:\\\\/\\\\/www.yelp.com\\\\/biz\\\\/miss-dong-burger-brooklyn-2?adjust_creative=azSZ1YV457_fpKmHVQM9Bg&utm_campaign=yelp_api_v3&utm_medium=api_v3_business_search&utm_source=azSZ1YV457_fpKmHVQM9Bg\",\"review_count\":21,\"categories\":[{\"alias\":\"chicken_wings\",\"title\":\"Chicken Wings\"},{\"alias\":\"burgers\",\"title\":\"Burgers\"},{\"alias\":\"hotdogs\",\"title\":\"Fast Food\"}],\"rating\":3.5,\"coordinates\":{\"latitude\":40.6400147651,\"longitude\":-74.0076613466},\"transactions\":[\"delivery\",\"pickup\"],\"price\":null,\"location\":{\"address1\":\"711 54th St\",\"address2\":\"\",\"address3\":null,\"city\":\"Brooklyn\",\"zip_code\":\"11220\",\"country\":\"US\",\"state\":\"NY\",\"display_address\":[\"711 54th St\",\"Brooklyn, NY 11220\"]},\"phone\":\"+19179090699\",\"display_phone\":\"(917) 909-0699\",\"distance\":5328.5397463941},{\"id\":\"Q39xJvqJaM1xgDka8bQ80w\",\"alias\":\"black-iron-burger-brooklyn\",\"name\":\"Black Iron Burger\",\"image_url\":\"https:\\\\/\\\\/s3-media3.fl.yelpcdn.com\\\\/bphoto\\\\/4AbPAafXUs2mwklM6XmG7A\\\\/o.jpg\",\"is_closed\":false,\"url\":\"https:\\\\/\\\\/www.yelp.com\\\\/biz\\\\/black-iron-burger-brooklyn?adjust_creative=azSZ1YV457_fpKmHVQM9Bg&utm_campaign=yelp_api_v3&utm_medium=api_v3_business_search&utm_source=azSZ1YV457_fpKmHVQM9Bg\",\"review_count\":116,\"categories\":[{\"alias\":\"burgers\",\"title\":\"Burgers\"},{\"alias\":\"cocktailbars\",\"title\":\"Cocktail Bars\"},{\"alias\":\"beer_and_wine\",\"title\":\"Beer, Wine & Spirits\"}],\"rating\":4.0,\"coordinates\":{\"latitude\":40.680368,\"longitude\":-73.975156},\"transactions\":[\"delivery\"],\"price\":\"$$\",\"location\":{\"address1\":\"234 Flatbush Ave\",\"address2\":\"\",\"address3\":null,\"city\":\"Brooklyn\",\"zip_code\":\"11217\",\"country\":\"US\",\"state\":\"NY\",\"display_address\":[\"234 Flatbush Ave\",\"Brooklyn, NY 11217\"]},\"phone\":\"+19294196888\",\"display_phone\":\"(929) 419-6888\",\"distance\":4686.4051398777},{\"id\":\"RXw0iJuy5gK-tzNooodxKA\",\"alias\":\"blue-collar-brooklyn-2\",\"name\":\"Blue Collar\",\"image_url\":\"https:\\\\/\\\\/s3-media2.fl.yelpcdn.com\\\\/bphoto\\\\/ToOhBj-0OUu--wfe60Cg7A\\\\/o.jpg\",\"is_closed\":false,\"url\":\"https:\\\\/\\\\/www.yelp.com\\\\/biz\\\\/blue-collar-brooklyn-2?adjust_creative=azSZ1YV457_fpKmHVQM9Bg&utm_campaign=yelp_api_v3&utm_medium=api_v3_business_search&utm_source=azSZ1YV457_fpKmHVQM9Bg\",\"review_count\":18,\"categories\":[{\"alias\":\"burgers\",\"title\":\"Burgers\"},{\"alias\":\"tradamerican\",\"title\":\"American (Traditional)\"},{\"alias\":\"juicebars\",\"title\":\"Juice Bars & Smoothies\"}],\"rating\":4.0,\"coordinates\":{\"latitude\":40.68766,\"longitude\":-73.99319},\"transactions\":[\"delivery\",\"pickup\"],\"price\":null,\"location\":{\"address1\":\"187 Court St\",\"address2\":\"\",\"address3\":null,\"city\":\"Brooklyn\",\"zip_code\":\"11201\",\"country\":\"US\",\"state\":\"NY\",\"display_address\":[\"187 Court St\",\"Brooklyn, NY 11201\"]},\"phone\":\"\",\"display_phone\":\"\",\"distance\":6240.1956518942},{\"id\":\"Zzvqc7XcyGVX5bnjGN9IXA\",\"alias\":\"pig-beach-bbq-brooklyn-brooklyn\",\"name\":\"Pig Beach BBQ - Brooklyn\",\"image_url\":\"https:\\\\/\\\\/s3-media2.fl.yelpcdn.com\\\\/bphoto\\\\/OOOU1Dxmz0I4tBI2RsVuAA\\\\/o.jpg\",\"is_closed\":false,\"url\":\"https:\\\\/\\\\/www.yelp.com\\\\/biz\\\\/pig-beach-bbq-brooklyn-brooklyn?adjust_creative=azSZ1YV457_fpKmHVQM9Bg&utm_campaign=yelp_api_v3&utm_medium=api_v3_business_search&utm_source=azSZ1YV457_fpKmHVQM9Bg\",\"review_count\":728,\"categories\":[{\"alias\":\"bbq\",\"title\":\"Barbeque\"},{\"alias\":\"bars\",\"title\":\"Bars\"}],\"rating\":4.0,\"coordinates\":{\"latitude\":40.679294148,\"longitude\":-73.9880264256},\"transactions\":[\"delivery\",\"pickup\"],\"price\":\"$$\",\"location\":{\"address1\":\"480 Union St\",\"address2\":\"\",\"address3\":\"\",\"city\":\"Brooklyn\",\"zip_code\":\"11231\",\"country\":\"US\",\"state\":\"NY\",\"display_address\":[\"480 Union St\",\"Brooklyn, NY 11231\"]},\"phone\":\"\",\"display_phone\":\"\",\"distance\":5330.875991123},{\"id\":\"RfxOtJ4SQmEeVX_XjFLWUQ\",\"alias\":\"otis-brooklyn-2\",\"name\":\"Otis\",\"image_url\":\"https:\\\\/\\\\/s3-media2.fl.yelpcdn.com\\\\/bphoto\\\\/0HIC09tlcj-ZKmFmmGwKUA\\\\/o.jpg\",\"is_closed\":false,\"url\":\"https:\\\\/\\\\/www.yelp.com\\\\/biz\\\\/otis-brooklyn-2?adjust_creative=azSZ1YV457_fpKmHVQM9Bg&utm_campaign=yelp_api_v3&utm_medium=api_v3_business_search&utm_source=azSZ1YV457_fpKmHVQM9Bg\",\"review_count\":466,\"categories\":[{\"alias\":\"newamerican\",\"title\":\"American (New)\"},{\"alias\":\"cocktailbars\",\"title\":\"Cocktail Bars\"}],\"rating\":5.0,\"coordinates\":{\"latitude\":40.706011,\"longitude\":-73.932598},\"transactions\":[\"delivery\",\"pickup\"],\"price\":\"$$$\",\"location\":{\"address1\":\"18 Harrison Pl\",\"address2\":null,\"address3\":\"\",\"city\":\"Brooklyn\",\"zip_code\":\"11206\",\"country\":\"US\",\"state\":\"NY\",\"display_address\":[\"18 Harrison Pl\",\"Brooklyn, NY 11206\"]},\"phone\":\"+16468860601\",\"display_phone\":\"(646) 886-0601\",\"distance\":6858.3743290803},{\"id\":\"xiEBdZ8z5KY21Vw2pY2fJQ\",\"alias\":\"two-8-two-bar-and-burger-brooklyn\",\"name\":\"Two 8 Two Bar & Burger\",\"image_url\":\"https:\\\\/\\\\/s3-media2.fl.yelpcdn.com\\\\/bphoto\\\\/vqbsG8YOPZFPXytQt4t10Q\\\\/o.jpg\",\"is_closed\":false,\"url\":\"https:\\\\/\\\\/www.yelp.com\\\\/biz\\\\/two-8-two-bar-and-burger-brooklyn?adjust_creative=azSZ1YV457_fpKmHVQM9Bg&utm_campaign=yelp_api_v3&utm_medium=api_v3_business_search&utm_source=azSZ1YV457_fpKmHVQM9Bg\",\"review_count\":714,\"categories\":[{\"alias\":\"burgers\",\"title\":\"Burgers\"},{\"alias\":\"bars\",\"title\":\"Bars\"}],\"rating\":4.0,\"coordinates\":{\"latitude\":40.688536,\"longitude\":-73.989728},\"transactions\":[\"delivery\",\"pickup\"],\"price\":\"$$\",\"location\":{\"address1\":\"282 Atlantic Ave\",\"address2\":\"\",\"address3\":\"\",\"city\":\"Brooklyn\",\"zip_code\":\"11201\",\"country\":\"US\",\"state\":\"NY\",\"display_address\":[\"282 Atlantic Ave\",\"Brooklyn, NY 11201\"]},\"phone\":\"+17185962282\",\"display_phone\":\"(718) 596-2282\",\"distance\":6143.1872356572},{\"id\":\"-BOAKHyKKAXE1WhuVpMFkQ\",\"alias\":\"the-good-fork-pub-brooklyn-2\",\"name\":\"The Good Fork Pub\",\"image_url\":\"https:\\\\/\\\\/s3-media1.fl.yelpcdn.com\\\\/bphoto\\\\/DV9G-pvMx-896D8MxBt00g\\\\/o.jpg\",\"is_closed\":false,\"url\":\"https:\\\\/\\\\/www.yelp.com\\\\/biz\\\\/the-good-fork-pub-brooklyn-2?adjust_creative=azSZ1YV457_fpKmHVQM9Bg&utm_campaign=yelp_api_v3&utm_medium=api_v3_business_search&utm_source=azSZ1YV457_fpKmHVQM9Bg\",\"review_count\":412,\"categories\":[{\"alias\":\"pubs\",\"title\":\"Pubs\"},{\"alias\":\"burgers\",\"title\":\"Burgers\"},{\"alias\":\"hawaiian\",\"title\":\"Hawaiian\"}],\"rating\":4.0,\"coordinates\":{\"latitude\":40.67599,\"longitude\":-74.01432},\"transactions\":[],\"price\":\"$$\",\"location\":{\"address1\":\"391 Van Brunt St\",\"address2\":\"\",\"address3\":\"\",\"city\":\"Brooklyn\",\"zip_code\":\"11231\",\"country\":\"US\",\"state\":\"NY\",\"display_address\":[\"391 Van Brunt St\",\"Brooklyn, NY 11231\"]},\"phone\":\"+17186436636\",\"display_phone\":\"(718) 643-6636\",\"distance\":6792.5661622901},{\"id\":\"wYgp-defqwJPhjC6Y_WKWg\",\"alias\":\"burgerfi-brooklyn-2\",\"name\":\"BurgerFi\",\"image_url\":\"https:\\\\/\\\\/s3-media4.fl.yelpcdn.com\\\\/bphoto\\\\/Q7GBQBO4VJTaPOS32Jvz7Q\\\\/o.jpg\",\"is_closed\":false,\"url\":\"https:\\\\/\\\\/www.yelp.com\\\\/biz\\\\/burgerfi-brooklyn-2?adjust_creative=azSZ1YV457_fpKmHVQM9Bg&utm_campaign=yelp_api_v3&utm_medium=api_v3_business_search&utm_source=azSZ1YV457_fpKmHVQM9Bg\",\"review_count\":341,\"categories\":[{\"alias\":\"hotdog\",\"title\":\"Hot Dogs\"},{\"alias\":\"tradamerican\",\"title\":\"American (Traditional)\"},{\"alias\":\"burgers\",\"title\":\"Burgers\"}],\"rating\":4.0,\"coordinates\":{\"latitude\":40.61883,\"longitude\":-74.02131},\"transactions\":[\"delivery\",\"pickup\"],\"price\":\"$$\",\"location\":{\"address1\":\"719 86th St\",\"address2\":\"\",\"address3\":null,\"city\":\"Brooklyn\",\"zip_code\":\"11228\",\"country\":\"US\",\"state\":\"NY\",\"display_address\":[\"719 86th St\",\"Brooklyn, NY 11228\"]},\"phone\":\"+17188360836\",\"display_phone\":\"(718) 836-0836\",\"distance\":7081.2455189377},{\"id\":\"8xpGj_YkI2X6QxqXUJPw7g\",\"alias\":\"7th-street-burger-new-york\",\"name\":\"7th Street Burger\",\"image_url\":\"https:\\\\/\\\\/s3-media2.fl.yelpcdn.com\\\\/bphoto\\\\/GYqi52GZUNzGvDScteUQ8A\\\\/o.jpg\",\"is_closed\":false,\"url\":\"https:\\\\/\\\\/www.yelp.com\\\\/biz\\\\/7th-street-burger-new-york?adjust_creative=azSZ1YV457_fpKmHVQM9Bg&utm_campaign=yelp_api_v3&utm_medium=api_v3_business_search&utm_source=azSZ1YV457_fpKmHVQM9Bg\",\"review_count\":213,\"categories\":[{\"alias\":\"burgers\",\"title\":\"Burgers\"}],\"rating\":4.5,\"coordinates\":{\"latitude\":40.72697,\"longitude\":-73.98546},\"transactions\":[\"delivery\",\"pickup\"],\"price\":\"$$\",\"location\":{\"address1\":\"91 E 7th St\",\"address2\":null,\"address3\":\"\",\"city\":\"New York\",\"zip_code\":\"10009\",\"country\":\"US\",\"state\":\"NY\",\"display_address\":[\"91 E 7th St\",\"New York, NY 10009\"]},\"phone\":\"+16464906797\",\"display_phone\":\"(646) 490-6797\",\"distance\":9726.9736886187},{\"id\":\"BSTF928aOQWYcCo2rv-dxg\",\"alias\":\"flatiron-restaurant-brooklyn\",\"name\":\"Flatiron Restaurant\",\"image_url\":\"https:\\\\/\\\\/s3-media2.fl.yelpcdn.com\\\\/bphoto\\\\/P3A73WucVzDY_tRPKErfgw\\\\/o.jpg\",\"is_closed\":false,\"url\":\"https:\\\\/\\\\/www.yelp.com\\\\/biz\\\\/flatiron-restaurant-brooklyn?adjust_creative=azSZ1YV457_fpKmHVQM9Bg&utm_campaign=yelp_api_v3&utm_medium=api_v3_business_search&utm_source=azSZ1YV457_fpKmHVQM9Bg\",\"review_count\":55,\"categories\":[{\"alias\":\"steak\",\"title\":\"Steakhouses\"},{\"alias\":\"burgers\",\"title\":\"Burgers\"},{\"alias\":\"bars\",\"title\":\"Bars\"}],\"rating\":5.0,\"coordinates\":{\"latitude\":40.67051,\"longitude\":-73.98501},\"transactions\":[\"delivery\",\"pickup\",\"restaurant_reservation\"],\"price\":null,\"location\":{\"address1\":\"397 5th Ave\",\"address2\":null,\"address3\":\"\",\"city\":\"Brooklyn\",\"zip_code\":\"11215\",\"country\":\"US\",\"state\":\"NY\",\"display_address\":[\"397 5th Ave\",\"Brooklyn, NY 11215\"]},\"phone\":\"+17189654000\",\"display_phone\":\"(718) 965-4000\",\"distance\":4405.2241454062},{\"id\":\"9tvkWVKs3y22MNFFU7qrQg\",\"alias\":\"happy-jacks-burger-bar-rockaway-park\",\"name\":\"happy jacks burger bar\",\"image_url\":\"https:\\\\/\\\\/s3-media4.fl.yelpcdn.com\\\\/bphoto\\\\/UuuOOd4qnNOnJMNIc3Wmkg\\\\/o.jpg\",\"is_closed\":false,\"url\":\"https:\\\\/\\\\/www.yelp.com\\\\/biz\\\\/happy-jacks-burger-bar-rockaway-park?adjust_creative=azSZ1YV457_fpKmHVQM9Bg&utm_campaign=yelp_api_v3&utm_medium=api_v3_business_search&utm_source=azSZ1YV457_fpKmHVQM9Bg\",\"review_count\":89,\"categories\":[{\"alias\":\"tradamerican\",\"title\":\"American (Traditional)\"},{\"alias\":\"burgers\",\"title\":\"Burgers\"}],\"rating\":4.5,\"coordinates\":{\"latitude\":40.58116,\"longitude\":-73.83019},\"transactions\":[],\"price\":null,\"location\":{\"address1\":\"108-13 Rockaway Beach Dr\",\"address2\":\"\",\"address3\":null,\"city\":\"Rockaway Park\",\"zip_code\":\"11694\",\"country\":\"US\",\"state\":\"NY\",\"display_address\":[\"108-13 Rockaway Beach Dr\",\"Rockaway Park, NY 11694\"]},\"phone\":\"+13478976821\",\"display_phone\":\"(347) 897-6821\",\"distance\":12004.1010093881},{\"id\":\"fPJoi_TVRhjBdPYBZS6kXg\",\"alias\":\"roll-n-roaster-brooklyn\",\"name\":\"Roll-N-Roaster\",\"image_url\":\"https:\\\\/\\\\/s3-media2.fl.yelpcdn.com\\\\/bphoto\\\\/3LE8GO2LQjP-8hOgPDnNlA\\\\/o.jpg\",\"is_closed\":false,\"url\":\"https:\\\\/\\\\/www.yelp.com\\\\/biz\\\\/roll-n-roaster-brooklyn?adjust_creative=azSZ1YV457_fpKmHVQM9Bg&utm_campaign=yelp_api_v3&utm_medium=api_v3_business_search&utm_source=azSZ1YV457_fpKmHVQM9Bg\",\"review_count\":1298,\"categories\":[{\"alias\":\"tradamerican\",\"title\":\"American (Traditional)\"},{\"alias\":\"sandwiches\",\"title\":\"Sandwiches\"},{\"alias\":\"pizza\",\"title\":\"Pizza\"}],\"rating\":4.0,\"coordinates\":{\"latitude\":40.5840481566,\"longitude\":-73.9396257952},\"transactions\":[\"delivery\"],\"price\":\"$$\",\"location\":{\"address1\":\"2901 Emmons Ave\",\"address2\":\"\",\"address3\":\"\",\"city\":\"Brooklyn\",\"zip_code\":\"11235\",\"country\":\"US\",\"state\":\"NY\",\"display_address\":[\"2901 Emmons Ave\",\"Brooklyn, NY 11235\"]},\"phone\":\"+17187696000\",\"display_phone\":\"(718) 769-6000\",\"distance\":6795.9445370416},{\"id\":\"NDIrifAl6K-RrnZ2D3ZGbw\",\"alias\":\"emily-brooklyn-2\",\"name\":\"Emily\",\"image_url\":\"https:\\\\/\\\\/s3-media2.fl.yelpcdn.com\\\\/bphoto\\\\/mhCmk6CLlIrv6kRI12LU7Q\\\\/o.jpg\",\"is_closed\":false,\"url\":\"https:\\\\/\\\\/www.yelp.com\\\\/biz\\\\/emily-brooklyn-2?adjust_creative=azSZ1YV457_fpKmHVQM9Bg&utm_campaign=yelp_api_v3&utm_medium=api_v3_business_search&utm_source=azSZ1YV457_fpKmHVQM9Bg\",\"review_count\":890,\"categories\":[{\"alias\":\"tradamerican\",\"title\":\"American (Traditional)\"}],\"rating\":4.0,\"coordinates\":{\"latitude\":40.68351,\"longitude\":-73.96643},\"transactions\":[\"delivery\",\"pickup\"],\"price\":\"$$\",\"location\":{\"address1\":\"919 Fulton St\",\"address2\":\"\",\"address3\":null,\"city\":\"Brooklyn\",\"zip_code\":\"11238\",\"country\":\"US\",\"state\":\"NY\",\"display_address\":[\"919 Fulton St\",\"Brooklyn, NY 11238\"]},\"phone\":\"+13478449588\",\"display_phone\":\"(347) 844-9588\",\"distance\":4649.0066325427},{\"id\":\"Y1sLUSnksXqjNgA3Mcx-yQ\",\"alias\":\"dumont-burger-brooklyn\",\"name\":\"DuMont Burger\",\"image_url\":\"https:\\\\/\\\\/s3-media2.fl.yelpcdn.com\\\\/bphoto\\\\/onoAiAbz8DR8M63Gw4_UJg\\\\/o.jpg\",\"is_closed\":false,\"url\":\"https:\\\\/\\\\/www.yelp.com\\\\/biz\\\\/dumont-burger-brooklyn?adjust_creative=azSZ1YV457_fpKmHVQM9Bg&utm_campaign=yelp_api_v3&utm_medium=api_v3_business_search&utm_source=azSZ1YV457_fpKmHVQM9Bg\",\"review_count\":771,\"categories\":[{\"alias\":\"burgers\",\"title\":\"Burgers\"},{\"alias\":\"beerbar\",\"title\":\"Beer Bar\"},{\"alias\":\"cocktailbars\",\"title\":\"Cocktail Bars\"}],\"rating\":3.5,\"coordinates\":{\"latitude\":40.71366,\"longitude\":-73.96198},\"transactions\":[\"delivery\",\"pickup\"],\"price\":\"$$\",\"location\":{\"address1\":\"314 Bedford Ave\",\"address2\":\"\",\"address3\":\"\",\"city\":\"Brooklyn\",\"zip_code\":\"11211\",\"country\":\"US\",\"state\":\"NY\",\"display_address\":[\"314 Bedford Ave\",\"Brooklyn, NY 11211\"]},\"phone\":\"+17183846127\",\"display_phone\":\"(718) 384-6127\",\"distance\":7770.5166090157},{\"id\":\"Hc4_XRzCZ7kh-RpkB6c_qw\",\"alias\":\"mr-chips-brooklyn\",\"name\":\"Mr Chips\",\"image_url\":\"https:\\\\/\\\\/s3-media1.fl.yelpcdn.com\\\\/bphoto\\\\/PrD3eIQxMnVlTj16e8g5PQ\\\\/o.jpg\",\"is_closed\":false,\"url\":\"https:\\\\/\\\\/www.yelp.com\\\\/biz\\\\/mr-chips-brooklyn?adjust_creative=azSZ1YV457_fpKmHVQM9Bg&utm_campaign=yelp_api_v3&utm_medium=api_v3_business_search&utm_source=azSZ1YV457_fpKmHVQM9Bg\",\"review_count\":10,\"categories\":[{\"alias\":\"diners\",\"title\":\"Diners\"},{\"alias\":\"tradamerican\",\"title\":\"American (Traditional)\"},{\"alias\":\"burgers\",\"title\":\"Burgers\"}],\"rating\":4.5,\"coordinates\":{\"latitude\":40.6313168823,\"longitude\":-74.0281544437},\"transactions\":[\"delivery\",\"pickup\"],\"price\":null,\"location\":{\"address1\":\"7506 3rd Ave\",\"address2\":\"\",\"address3\":null,\"city\":\"Brooklyn\",\"zip_code\":\"11209\",\"country\":\"US\",\"state\":\"NY\",\"display_address\":[\"7506 3rd Ave\",\"Brooklyn, NY 11209\"]},\"phone\":\"+13479097054\",\"display_phone\":\"(347) 909-7054\",\"distance\":7192.3815892262},{\"id\":\"PY-v9ObQWyS1Oiz89IUfEw\",\"alias\":\"skinflints-brooklyn\",\"name\":\"Skinflints\",\"image_url\":\"https:\\\\/\\\\/s3-media4.fl.yelpcdn.com\\\\/bphoto\\\\/AbbbEUR4LdZjQNT8KDqlCw\\\\/o.jpg\",\"is_closed\":false,\"url\":\"https:\\\\/\\\\/www.yelp.com\\\\/biz\\\\/skinflints-brooklyn?adjust_creative=azSZ1YV457_fpKmHVQM9Bg&utm_campaign=yelp_api_v3&utm_medium=api_v3_business_search&utm_source=azSZ1YV457_fpKmHVQM9Bg\",\"review_count\":378,\"categories\":[{\"alias\":\"burgers\",\"title\":\"Burgers\"},{\"alias\":\"tradamerican\",\"title\":\"American (Traditional)\"},{\"alias\":\"bars\",\"title\":\"Bars\"}],\"rating\":4.0,\"coordinates\":{\"latitude\":40.626544,\"longitude\":-74.024139},\"transactions\":[\"delivery\",\"pickup\"],\"price\":\"$$\",\"location\":{\"address1\":\"7902 5th Ave\",\"address2\":\"\",\"address3\":\"\",\"city\":\"Brooklyn\",\"zip_code\":\"11209\",\"country\":\"US\",\"state\":\"NY\",\"display_address\":[\"7902 5th Ave\",\"Brooklyn, NY 11209\"]},\"phone\":\"+17187451116\",\"display_phone\":\"(718) 745-1116\",\"distance\":6996.3993682533}]'"
      ]
     },
     "execution_count": 37,
     "metadata": {},
     "output_type": "execute_result"
    }
   ],
   "source": [
    "# save the businesses as a records-oriented JSON file\n",
    "(pages.to_json(orient='records'))"
   ]
  }
 ],
 "metadata": {
  "kernelspec": {
   "display_name": "Python (dojo-env)",
   "language": "python",
   "name": "dojo-env"
  },
  "language_info": {
   "codemirror_mode": {
    "name": "ipython",
    "version": 3
   },
   "file_extension": ".py",
   "mimetype": "text/x-python",
   "name": "python",
   "nbconvert_exporter": "python",
   "pygments_lexer": "ipython3",
   "version": "3.8.13"
  },
  "toc": {
   "base_numbering": 1,
   "nav_menu": {},
   "number_sections": false,
   "sideBar": true,
   "skip_h1_title": false,
   "title_cell": "Table of Contents",
   "title_sidebar": "Contents",
   "toc_cell": false,
   "toc_position": {},
   "toc_section_display": true,
   "toc_window_display": false
  }
 },
 "nbformat": 4,
 "nbformat_minor": 5
}
